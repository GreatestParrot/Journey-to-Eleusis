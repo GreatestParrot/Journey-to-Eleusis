{
  "nbformat": 4,
  "nbformat_minor": 0,
  "metadata": {
    "colab": {
      "provenance": []
    },
    "kernelspec": {
      "name": "python3",
      "display_name": "Python 3"
    },
    "language_info": {
      "name": "python"
    },
    "widgets": {
      "application/vnd.jupyter.widget-state+json": {
        "ccfeef96f4f444e8a863586858c5844f": {
          "model_module": "@jupyter-widgets/controls",
          "model_name": "HBoxModel",
          "model_module_version": "1.5.0",
          "state": {
            "_dom_classes": [],
            "_model_module": "@jupyter-widgets/controls",
            "_model_module_version": "1.5.0",
            "_model_name": "HBoxModel",
            "_view_count": null,
            "_view_module": "@jupyter-widgets/controls",
            "_view_module_version": "1.5.0",
            "_view_name": "HBoxView",
            "box_style": "",
            "children": [
              "IPY_MODEL_ebbd4fef300d41fe86f3ea0ddd33a4d1",
              "IPY_MODEL_ce51a5bc200f4421bd6d0f8479a19eb3",
              "IPY_MODEL_fe5de15fcf9f410aac6ca77fea338df2"
            ],
            "layout": "IPY_MODEL_420b24b4a7c940b1bf01fbc1db12745f"
          }
        },
        "ebbd4fef300d41fe86f3ea0ddd33a4d1": {
          "model_module": "@jupyter-widgets/controls",
          "model_name": "HTMLModel",
          "model_module_version": "1.5.0",
          "state": {
            "_dom_classes": [],
            "_model_module": "@jupyter-widgets/controls",
            "_model_module_version": "1.5.0",
            "_model_name": "HTMLModel",
            "_view_count": null,
            "_view_module": "@jupyter-widgets/controls",
            "_view_module_version": "1.5.0",
            "_view_name": "HTMLView",
            "description": "",
            "description_tooltip": null,
            "layout": "IPY_MODEL_3827f510a6014bda8f3591cdfea05aa9",
            "placeholder": "​",
            "style": "IPY_MODEL_a4f7f28c8acc4cdabf8c90771953585c",
            "value": "100%"
          }
        },
        "ce51a5bc200f4421bd6d0f8479a19eb3": {
          "model_module": "@jupyter-widgets/controls",
          "model_name": "FloatProgressModel",
          "model_module_version": "1.5.0",
          "state": {
            "_dom_classes": [],
            "_model_module": "@jupyter-widgets/controls",
            "_model_module_version": "1.5.0",
            "_model_name": "FloatProgressModel",
            "_view_count": null,
            "_view_module": "@jupyter-widgets/controls",
            "_view_module_version": "1.5.0",
            "_view_name": "ProgressView",
            "bar_style": "success",
            "description": "",
            "description_tooltip": null,
            "layout": "IPY_MODEL_9a2411caf2f946b58bb8d668b94beb86",
            "max": 5000,
            "min": 0,
            "orientation": "horizontal",
            "style": "IPY_MODEL_96ceb0d761674b1fafa5a99ff796dc9a",
            "value": 5000
          }
        },
        "fe5de15fcf9f410aac6ca77fea338df2": {
          "model_module": "@jupyter-widgets/controls",
          "model_name": "HTMLModel",
          "model_module_version": "1.5.0",
          "state": {
            "_dom_classes": [],
            "_model_module": "@jupyter-widgets/controls",
            "_model_module_version": "1.5.0",
            "_model_name": "HTMLModel",
            "_view_count": null,
            "_view_module": "@jupyter-widgets/controls",
            "_view_module_version": "1.5.0",
            "_view_name": "HTMLView",
            "description": "",
            "description_tooltip": null,
            "layout": "IPY_MODEL_9d87d18c59d341d09506ad1c8b0a546a",
            "placeholder": "​",
            "style": "IPY_MODEL_be2442720e4b4d33af288d909cc7d386",
            "value": " 5000/5000 [1:08:19&lt;00:00,  1.27it/s]"
          }
        },
        "420b24b4a7c940b1bf01fbc1db12745f": {
          "model_module": "@jupyter-widgets/base",
          "model_name": "LayoutModel",
          "model_module_version": "1.2.0",
          "state": {
            "_model_module": "@jupyter-widgets/base",
            "_model_module_version": "1.2.0",
            "_model_name": "LayoutModel",
            "_view_count": null,
            "_view_module": "@jupyter-widgets/base",
            "_view_module_version": "1.2.0",
            "_view_name": "LayoutView",
            "align_content": null,
            "align_items": null,
            "align_self": null,
            "border": null,
            "bottom": null,
            "display": null,
            "flex": null,
            "flex_flow": null,
            "grid_area": null,
            "grid_auto_columns": null,
            "grid_auto_flow": null,
            "grid_auto_rows": null,
            "grid_column": null,
            "grid_gap": null,
            "grid_row": null,
            "grid_template_areas": null,
            "grid_template_columns": null,
            "grid_template_rows": null,
            "height": null,
            "justify_content": null,
            "justify_items": null,
            "left": null,
            "margin": null,
            "max_height": null,
            "max_width": null,
            "min_height": null,
            "min_width": null,
            "object_fit": null,
            "object_position": null,
            "order": null,
            "overflow": null,
            "overflow_x": null,
            "overflow_y": null,
            "padding": null,
            "right": null,
            "top": null,
            "visibility": null,
            "width": null
          }
        },
        "3827f510a6014bda8f3591cdfea05aa9": {
          "model_module": "@jupyter-widgets/base",
          "model_name": "LayoutModel",
          "model_module_version": "1.2.0",
          "state": {
            "_model_module": "@jupyter-widgets/base",
            "_model_module_version": "1.2.0",
            "_model_name": "LayoutModel",
            "_view_count": null,
            "_view_module": "@jupyter-widgets/base",
            "_view_module_version": "1.2.0",
            "_view_name": "LayoutView",
            "align_content": null,
            "align_items": null,
            "align_self": null,
            "border": null,
            "bottom": null,
            "display": null,
            "flex": null,
            "flex_flow": null,
            "grid_area": null,
            "grid_auto_columns": null,
            "grid_auto_flow": null,
            "grid_auto_rows": null,
            "grid_column": null,
            "grid_gap": null,
            "grid_row": null,
            "grid_template_areas": null,
            "grid_template_columns": null,
            "grid_template_rows": null,
            "height": null,
            "justify_content": null,
            "justify_items": null,
            "left": null,
            "margin": null,
            "max_height": null,
            "max_width": null,
            "min_height": null,
            "min_width": null,
            "object_fit": null,
            "object_position": null,
            "order": null,
            "overflow": null,
            "overflow_x": null,
            "overflow_y": null,
            "padding": null,
            "right": null,
            "top": null,
            "visibility": null,
            "width": null
          }
        },
        "a4f7f28c8acc4cdabf8c90771953585c": {
          "model_module": "@jupyter-widgets/controls",
          "model_name": "DescriptionStyleModel",
          "model_module_version": "1.5.0",
          "state": {
            "_model_module": "@jupyter-widgets/controls",
            "_model_module_version": "1.5.0",
            "_model_name": "DescriptionStyleModel",
            "_view_count": null,
            "_view_module": "@jupyter-widgets/base",
            "_view_module_version": "1.2.0",
            "_view_name": "StyleView",
            "description_width": ""
          }
        },
        "9a2411caf2f946b58bb8d668b94beb86": {
          "model_module": "@jupyter-widgets/base",
          "model_name": "LayoutModel",
          "model_module_version": "1.2.0",
          "state": {
            "_model_module": "@jupyter-widgets/base",
            "_model_module_version": "1.2.0",
            "_model_name": "LayoutModel",
            "_view_count": null,
            "_view_module": "@jupyter-widgets/base",
            "_view_module_version": "1.2.0",
            "_view_name": "LayoutView",
            "align_content": null,
            "align_items": null,
            "align_self": null,
            "border": null,
            "bottom": null,
            "display": null,
            "flex": null,
            "flex_flow": null,
            "grid_area": null,
            "grid_auto_columns": null,
            "grid_auto_flow": null,
            "grid_auto_rows": null,
            "grid_column": null,
            "grid_gap": null,
            "grid_row": null,
            "grid_template_areas": null,
            "grid_template_columns": null,
            "grid_template_rows": null,
            "height": null,
            "justify_content": null,
            "justify_items": null,
            "left": null,
            "margin": null,
            "max_height": null,
            "max_width": null,
            "min_height": null,
            "min_width": null,
            "object_fit": null,
            "object_position": null,
            "order": null,
            "overflow": null,
            "overflow_x": null,
            "overflow_y": null,
            "padding": null,
            "right": null,
            "top": null,
            "visibility": null,
            "width": null
          }
        },
        "96ceb0d761674b1fafa5a99ff796dc9a": {
          "model_module": "@jupyter-widgets/controls",
          "model_name": "ProgressStyleModel",
          "model_module_version": "1.5.0",
          "state": {
            "_model_module": "@jupyter-widgets/controls",
            "_model_module_version": "1.5.0",
            "_model_name": "ProgressStyleModel",
            "_view_count": null,
            "_view_module": "@jupyter-widgets/base",
            "_view_module_version": "1.2.0",
            "_view_name": "StyleView",
            "bar_color": null,
            "description_width": ""
          }
        },
        "9d87d18c59d341d09506ad1c8b0a546a": {
          "model_module": "@jupyter-widgets/base",
          "model_name": "LayoutModel",
          "model_module_version": "1.2.0",
          "state": {
            "_model_module": "@jupyter-widgets/base",
            "_model_module_version": "1.2.0",
            "_model_name": "LayoutModel",
            "_view_count": null,
            "_view_module": "@jupyter-widgets/base",
            "_view_module_version": "1.2.0",
            "_view_name": "LayoutView",
            "align_content": null,
            "align_items": null,
            "align_self": null,
            "border": null,
            "bottom": null,
            "display": null,
            "flex": null,
            "flex_flow": null,
            "grid_area": null,
            "grid_auto_columns": null,
            "grid_auto_flow": null,
            "grid_auto_rows": null,
            "grid_column": null,
            "grid_gap": null,
            "grid_row": null,
            "grid_template_areas": null,
            "grid_template_columns": null,
            "grid_template_rows": null,
            "height": null,
            "justify_content": null,
            "justify_items": null,
            "left": null,
            "margin": null,
            "max_height": null,
            "max_width": null,
            "min_height": null,
            "min_width": null,
            "object_fit": null,
            "object_position": null,
            "order": null,
            "overflow": null,
            "overflow_x": null,
            "overflow_y": null,
            "padding": null,
            "right": null,
            "top": null,
            "visibility": null,
            "width": null
          }
        },
        "be2442720e4b4d33af288d909cc7d386": {
          "model_module": "@jupyter-widgets/controls",
          "model_name": "DescriptionStyleModel",
          "model_module_version": "1.5.0",
          "state": {
            "_model_module": "@jupyter-widgets/controls",
            "_model_module_version": "1.5.0",
            "_model_name": "DescriptionStyleModel",
            "_view_count": null,
            "_view_module": "@jupyter-widgets/base",
            "_view_module_version": "1.2.0",
            "_view_name": "StyleView",
            "description_width": ""
          }
        }
      }
    }
  },
  "cells": [
    {
      "cell_type": "code",
      "execution_count": 5,
      "metadata": {
        "id": "ACktAdL1V5W7"
      },
      "outputs": [],
      "source": [
        "from itertools import product\n",
        "from collections import Counter\n",
        "import random\n",
        "import requests\n",
        "import pandas as pd\n",
        "import time\n",
        "import json\n",
        "# from tqdm import tqdm\n",
        "from tqdm.auto import tqdm\n",
        "from getpass import getpass"
      ]
    },
    {
      "cell_type": "code",
      "source": [
        "scenario_data = json.load(open(\"eng_scenarios_50k.json\"))\n",
        "NUMBER_OF_SCENARIOS = 5000 # len(scenario_data)"
      ],
      "metadata": {
        "id": "v043ivRpravl"
      },
      "execution_count": null,
      "outputs": []
    },
    {
      "cell_type": "markdown",
      "source": [
        "## Yandex GPT запросы"
      ],
      "metadata": {
        "id": "V-nQ9Owqnrez"
      }
    },
    {
      "cell_type": "code",
      "source": [
        "CATALOG_ID = getpass(\"Yandex Cloud Catalog ID\")\n",
        "API_KEY = getpass(\"Yandex Cloud Service Account API Key\")"
      ],
      "metadata": {
        "id": "Noj5J-9fcOkr"
      },
      "execution_count": null,
      "outputs": []
    },
    {
      "cell_type": "markdown",
      "source": [
        "### Send requests (async)"
      ],
      "metadata": {
        "id": "9Jc8yDBrs6be"
      }
    },
    {
      "cell_type": "code",
      "source": [
        "def send_yandex_gpt_request(system_content, user_content):\n",
        "  prompt = {\n",
        "    \"modelUri\": f\"gpt://{CATALOG_ID}/yandexgpt/latest\",\n",
        "    \"completionOptions\": {\n",
        "        \"stream\": True,\n",
        "        \"temperature\": 0,\n",
        "        \"maxTokens\": \"2000\"\n",
        "    },\n",
        "    \"messages\": [\n",
        "        {\"role\": \"system\", \"text\": system_content},\n",
        "        {\"role\": \"user\", \"text\": user_content}\n",
        "          ]\n",
        "    }\n",
        "\n",
        "  # url = \"https://llm.api.cloud.yandex.net/foundationModels/v1/completion\"\n",
        "  url = \"https://llm.api.cloud.yandex.net/foundationModels/v1/completionAsync\"\n",
        "  headers = {\n",
        "      \"Content-Type\": \"application/json\",\n",
        "      \"Authorization\": f\"Api-Key {API_KEY}\"\n",
        "  }\n",
        "\n",
        "  response = requests.post(url, headers=headers, json=prompt)\n",
        "  # print(response.json())\n",
        "  return response.json().get(\"id\")"
      ],
      "metadata": {
        "id": "SCA2SoYPn44I"
      },
      "execution_count": null,
      "outputs": []
    },
    {
      "cell_type": "code",
      "source": [
        "scenario_list = []"
      ],
      "metadata": {
        "id": "ROCYJcsJvDYU"
      },
      "execution_count": null,
      "outputs": []
    },
    {
      "cell_type": "code",
      "source": [
        "for i in tqdm(range(NUMBER_OF_SCENARIOS)):\n",
        "\n",
        "  system_content = scenario_data[i][\"system_content\"]\n",
        "  user_content = scenario_data[i][\"user_content\"]\n",
        "  scenario_info = scenario_data[i][\"scenario_info\"]\n",
        "\n",
        "  try:\n",
        "    req_id = send_yandex_gpt_request(system_content, user_content)\n",
        "\n",
        "    scenario_info[\"req_id\"] = req_id\n",
        "    scenario_list.append(scenario_info)\n",
        "  except:\n",
        "    print(\"Problem!\")\n",
        "    continue\n",
        "  # time.sleep(0.2)\n",
        "\n",
        "df = pd.DataFrame(scenario_list)\n",
        "df.to_pickle(f\"requests_yandex_gpt_{len(scenario_list)}.pickle\")"
      ],
      "metadata": {
        "colab": {
          "base_uri": "https://localhost:8080/",
          "height": 49,
          "referenced_widgets": [
            "ccfeef96f4f444e8a863586858c5844f",
            "ebbd4fef300d41fe86f3ea0ddd33a4d1",
            "ce51a5bc200f4421bd6d0f8479a19eb3",
            "fe5de15fcf9f410aac6ca77fea338df2",
            "420b24b4a7c940b1bf01fbc1db12745f",
            "3827f510a6014bda8f3591cdfea05aa9",
            "a4f7f28c8acc4cdabf8c90771953585c",
            "9a2411caf2f946b58bb8d668b94beb86",
            "96ceb0d761674b1fafa5a99ff796dc9a",
            "9d87d18c59d341d09506ad1c8b0a546a",
            "be2442720e4b4d33af288d909cc7d386"
          ]
        },
        "id": "aa7SBWUkfSc4",
        "outputId": "df0fdc39-4d19-4385-ba95-140ae3a155b0"
      },
      "execution_count": null,
      "outputs": [
        {
          "output_type": "display_data",
          "data": {
            "text/plain": [
              "  0%|          | 0/5000 [00:00<?, ?it/s]"
            ],
            "application/vnd.jupyter.widget-view+json": {
              "version_major": 2,
              "version_minor": 0,
              "model_id": "ccfeef96f4f444e8a863586858c5844f"
            }
          },
          "metadata": {}
        },
        {
          "output_type": "display_data",
          "data": {
            "text/plain": [
              "<IPython.core.display.Javascript object>"
            ],
            "application/javascript": [
              "\n",
              "    async function download(id, filename, size) {\n",
              "      if (!google.colab.kernel.accessAllowed) {\n",
              "        return;\n",
              "      }\n",
              "      const div = document.createElement('div');\n",
              "      const label = document.createElement('label');\n",
              "      label.textContent = `Downloading \"${filename}\": `;\n",
              "      div.appendChild(label);\n",
              "      const progress = document.createElement('progress');\n",
              "      progress.max = size;\n",
              "      div.appendChild(progress);\n",
              "      document.body.appendChild(div);\n",
              "\n",
              "      const buffers = [];\n",
              "      let downloaded = 0;\n",
              "\n",
              "      const channel = await google.colab.kernel.comms.open(id);\n",
              "      // Send a message to notify the kernel that we're ready.\n",
              "      channel.send({})\n",
              "\n",
              "      for await (const message of channel.messages) {\n",
              "        // Send a message to notify the kernel that we're ready.\n",
              "        channel.send({})\n",
              "        if (message.buffers) {\n",
              "          for (const buffer of message.buffers) {\n",
              "            buffers.push(buffer);\n",
              "            downloaded += buffer.byteLength;\n",
              "            progress.value = downloaded;\n",
              "          }\n",
              "        }\n",
              "      }\n",
              "      const blob = new Blob(buffers, {type: 'application/binary'});\n",
              "      const a = document.createElement('a');\n",
              "      a.href = window.URL.createObjectURL(blob);\n",
              "      a.download = filename;\n",
              "      div.appendChild(a);\n",
              "      a.click();\n",
              "      div.remove();\n",
              "    }\n",
              "  "
            ]
          },
          "metadata": {}
        },
        {
          "output_type": "display_data",
          "data": {
            "text/plain": [
              "<IPython.core.display.Javascript object>"
            ],
            "application/javascript": [
              "download(\"download_e52f330f-d16b-4073-9b2d-a36b235c8bb2\", \"requests_yandex_gpt.pickle\", 458396)"
            ]
          },
          "metadata": {}
        }
      ]
    },
    {
      "cell_type": "markdown",
      "source": [
        "### Get responses"
      ],
      "metadata": {
        "id": "7QB0jc2js_wG"
      }
    },
    {
      "cell_type": "code",
      "source": [
        "def get_yandex_gpt_response(req_id, sleep_delay=2, log=False):\n",
        "  result_url = f\"https://llm.api.cloud.yandex.net/operations/{req_id}\"\n",
        "  headers = {\n",
        "      \"Authorization\": f\"Api-Key {API_KEY}\"\n",
        "  }\n",
        "\n",
        "  for i in range(3): ## Number of Attempts\n",
        "      result = requests.get(result_url, headers=headers)\n",
        "      if log:\n",
        "        print(result.json())\n",
        "\n",
        "      if not result.json()[\"done\"]:\n",
        "        time.sleep(sleep_delay)\n",
        "      else:\n",
        "        return result.json()[\"response\"][\"alternatives\"][0][\"message\"][\"text\"]"
      ],
      "metadata": {
        "id": "S-GazvCmqOTi"
      },
      "execution_count": null,
      "outputs": []
    },
    {
      "cell_type": "code",
      "source": [
        "for i in tqdm(range(len(scenario_list))):\n",
        "  if scenario_list[i].get(\"result\") is not None:\n",
        "    continue\n",
        "\n",
        "  scenario_list[i][\"response\"] = get_yandex_gpt_response(scenario_list[i][\"req_id\"], log=True)\n",
        "\n",
        "df = pd.DataFrame(scenario_list)\n",
        "df.to_pickle(f\"results_yandex_gpt_{len(scenario_list)}.pickle\")"
      ],
      "metadata": {
        "id": "NRXMv-O9ITKQ"
      },
      "execution_count": null,
      "outputs": []
    },
    {
      "cell_type": "code",
      "source": [
        "df[\"response\"].isna().sum()"
      ],
      "metadata": {
        "id": "sFogxt_Ju3We"
      },
      "execution_count": null,
      "outputs": []
    }
  ]
}